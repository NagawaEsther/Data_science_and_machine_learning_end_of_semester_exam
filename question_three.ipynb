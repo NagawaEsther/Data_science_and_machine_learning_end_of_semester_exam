{
 "cells": [
  {
   "cell_type": "markdown",
   "metadata": {},
   "source": [
    "# Reducing Customer Churn in Telecommunication: Analyzing Factors and Implementing Retention Strategies"
   ]
  },
  {
   "cell_type": "code",
   "execution_count": 51,
   "metadata": {},
   "outputs": [],
   "source": [
    "import pandas as pd"
   ]
  },
  {
   "cell_type": "markdown",
   "metadata": {},
   "source": [
    "# Reading the dataset in the environment"
   ]
  },
  {
   "cell_type": "code",
   "execution_count": 4,
   "metadata": {},
   "outputs": [
    {
     "name": "stdout",
     "output_type": "stream",
     "text": [
      "      customerID  gender  SeniorCitizen Partner Dependents  tenure  \\\n",
      "0     7590-VHVEG  Female              0     Yes         No       1   \n",
      "1     5575-GNVDE    Male              0      No         No      34   \n",
      "2     3668-QPYBK    Male              0      No         No       2   \n",
      "3     7795-CFOCW    Male              0      No         No      45   \n",
      "4     9237-HQITU  Female              0      No         No       2   \n",
      "...          ...     ...            ...     ...        ...     ...   \n",
      "7038  6840-RESVB    Male              0     Yes        Yes      24   \n",
      "7039  2234-XADUH  Female              0     Yes        Yes      72   \n",
      "7040  4801-JZAZL  Female              0     Yes        Yes      11   \n",
      "7041  8361-LTMKD    Male              1     Yes         No       4   \n",
      "7042  3186-AJIEK    Male              0      No         No      66   \n",
      "\n",
      "     PhoneService     MultipleLines InternetService OnlineSecurity  ...  \\\n",
      "0              No  No phone service             DSL             No  ...   \n",
      "1             Yes                No             DSL            Yes  ...   \n",
      "2             Yes                No             DSL            Yes  ...   \n",
      "3              No  No phone service             DSL            Yes  ...   \n",
      "4             Yes                No     Fiber optic             No  ...   \n",
      "...           ...               ...             ...            ...  ...   \n",
      "7038          Yes               Yes             DSL            Yes  ...   \n",
      "7039          Yes               Yes     Fiber optic             No  ...   \n",
      "7040           No  No phone service             DSL            Yes  ...   \n",
      "7041          Yes               Yes     Fiber optic             No  ...   \n",
      "7042          Yes                No     Fiber optic            Yes  ...   \n",
      "\n",
      "     DeviceProtection TechSupport StreamingTV StreamingMovies        Contract  \\\n",
      "0                  No          No          No              No  Month-to-month   \n",
      "1                 Yes          No          No              No        One year   \n",
      "2                  No          No          No              No  Month-to-month   \n",
      "3                 Yes         Yes          No              No        One year   \n",
      "4                  No          No          No              No  Month-to-month   \n",
      "...               ...         ...         ...             ...             ...   \n",
      "7038              Yes         Yes         Yes             Yes        One year   \n",
      "7039              Yes          No         Yes             Yes        One year   \n",
      "7040               No          No          No              No  Month-to-month   \n",
      "7041               No          No          No              No  Month-to-month   \n",
      "7042              Yes         Yes         Yes             Yes        Two year   \n",
      "\n",
      "     PaperlessBilling              PaymentMethod MonthlyCharges  TotalCharges  \\\n",
      "0                 Yes           Electronic check          29.85         29.85   \n",
      "1                  No               Mailed check          56.95        1889.5   \n",
      "2                 Yes               Mailed check          53.85        108.15   \n",
      "3                  No  Bank transfer (automatic)          42.30       1840.75   \n",
      "4                 Yes           Electronic check          70.70        151.65   \n",
      "...               ...                        ...            ...           ...   \n",
      "7038              Yes               Mailed check          84.80        1990.5   \n",
      "7039              Yes    Credit card (automatic)         103.20        7362.9   \n",
      "7040              Yes           Electronic check          29.60        346.45   \n",
      "7041              Yes               Mailed check          74.40         306.6   \n",
      "7042              Yes  Bank transfer (automatic)         105.65        6844.5   \n",
      "\n",
      "     Churn  \n",
      "0       No  \n",
      "1       No  \n",
      "2      Yes  \n",
      "3       No  \n",
      "4      Yes  \n",
      "...    ...  \n",
      "7038    No  \n",
      "7039    No  \n",
      "7040    No  \n",
      "7041   Yes  \n",
      "7042    No  \n",
      "\n",
      "[7043 rows x 21 columns]\n"
     ]
    }
   ],
   "source": [
    "data=pd.read_csv(r\"c:\\Users\\ESTHER\\Desktop\\exam_cohort3\\exam_cohort3\\data.csv\")\n",
    "print(data)"
   ]
  },
  {
   "cell_type": "markdown",
   "metadata": {},
   "source": [
    "# (a) Using the appropriate variable, explore the distribution of customer churn in the dataset"
   ]
  },
  {
   "cell_type": "code",
   "execution_count": 5,
   "metadata": {},
   "outputs": [
    {
     "name": "stdout",
     "output_type": "stream",
     "text": [
      "Churn Distribution:\n",
      "Churn\n",
      "No     0.73463\n",
      "Yes    0.26537\n",
      "Name: proportion, dtype: float64\n"
     ]
    }
   ],
   "source": [
    "# Calculating churn distribution\n",
    "churn_distribution = data['Churn'].value_counts(normalize=True)\n",
    "print(\"Churn Distribution:\")\n",
    "print(churn_distribution)"
   ]
  },
  {
   "cell_type": "markdown",
   "metadata": {},
   "source": [
    "# Findings"
   ]
  },
  {
   "cell_type": "markdown",
   "metadata": {},
   "source": [
    "The analysis unveils that approximately 73.46% of customers did not churn, while roughly 26.54% churned, indicating potential issues with customer retention."
   ]
  },
  {
   "cell_type": "markdown",
   "metadata": {},
   "source": [
    "# (b) How does the customer churn distribution vary across gender in the dataset?"
   ]
  },
  {
   "cell_type": "code",
   "execution_count": 6,
   "metadata": {},
   "outputs": [
    {
     "name": "stdout",
     "output_type": "stream",
     "text": [
      "Churn Distribution by Gender:\n",
      "gender  Churn\n",
      "Female  No       0.730791\n",
      "        Yes      0.269209\n",
      "Male    No       0.738397\n",
      "        Yes      0.261603\n",
      "Name: proportion, dtype: float64\n"
     ]
    }
   ],
   "source": [
    "# Grouping data by gender and calculating churn distribution\n",
    "gender_churn_distribution = data.groupby('gender')['Churn'].value_counts(normalize=True)\n",
    "print(\"Churn Distribution by Gender:\")\n",
    "print(gender_churn_distribution)\n"
   ]
  },
  {
   "cell_type": "markdown",
   "metadata": {},
   "source": [
    "# Findings"
   ]
  },
  {
   "cell_type": "markdown",
   "metadata": {},
   "source": [
    "Grouping data by gender and analyzing churn distribution reveals that females exhibit a churn rate of approximately 26.92%, while males have a churn rate of about 26.16%, suggesting a minor variation in churn rates based on gender."
   ]
  },
  {
   "cell_type": "markdown",
   "metadata": {},
   "source": [
    "# (c) How does the customer churn distribution vary by contract type?."
   ]
  },
  {
   "cell_type": "code",
   "execution_count": 7,
   "metadata": {},
   "outputs": [
    {
     "name": "stdout",
     "output_type": "stream",
     "text": [
      "Churn Distribution by Contract Type:\n",
      "Contract        Churn\n",
      "Month-to-month  No       0.572903\n",
      "                Yes      0.427097\n",
      "One year        No       0.887305\n",
      "                Yes      0.112695\n",
      "Two year        No       0.971681\n",
      "                Yes      0.028319\n",
      "Name: proportion, dtype: float64\n"
     ]
    }
   ],
   "source": [
    "# Grouping data by contract type and calculating churn distribution\n",
    "contract_churn_distribution = data.groupby('Contract')['Churn'].value_counts(normalize=True)\n",
    "print(\"Churn Distribution by Contract Type:\")\n",
    "print(contract_churn_distribution)\n"
   ]
  },
  {
   "cell_type": "markdown",
   "metadata": {},
   "source": [
    "# Findings"
   ]
  },
  {
   "cell_type": "markdown",
   "metadata": {},
   "source": [
    "Month-to-month contracts exhibit a notably higher churn rate (42.71%) compared to one-year (11.27%) and two-year contracts (2.83%), emphasizing the impact of contract duration on churn behavior."
   ]
  },
  {
   "cell_type": "markdown",
   "metadata": {},
   "source": [
    "# (d) How does the customer churn distribution vary by payment method"
   ]
  },
  {
   "cell_type": "code",
   "execution_count": 8,
   "metadata": {},
   "outputs": [
    {
     "name": "stdout",
     "output_type": "stream",
     "text": [
      "Churn Distribution by Payment Method:\n",
      "PaymentMethod              Churn\n",
      "Bank transfer (automatic)  No       0.832902\n",
      "                           Yes      0.167098\n",
      "Credit card (automatic)    No       0.847569\n",
      "                           Yes      0.152431\n",
      "Electronic check           No       0.547146\n",
      "                           Yes      0.452854\n",
      "Mailed check               No       0.808933\n",
      "                           Yes      0.191067\n",
      "Name: proportion, dtype: float64\n"
     ]
    }
   ],
   "source": [
    "# Grouping data by payment method and calculating churn distribution\n",
    "payment_churn_distribution = data.groupby('PaymentMethod')['Churn'].value_counts(normalize=True)\n",
    "print(\"Churn Distribution by Payment Method:\")\n",
    "print(payment_churn_distribution)"
   ]
  },
  {
   "cell_type": "markdown",
   "metadata": {},
   "source": [
    "# Findings"
   ]
  },
  {
   "cell_type": "markdown",
   "metadata": {},
   "source": [
    "Churn distribution varies by payment method, with electronic check users having the highest churn rate (45.29%), followed by mailed check (19.11%), bank transfer (16.71%), and credit card (15.24%), indicating diverse impacts of payment methods on churn behavior."
   ]
  },
  {
   "cell_type": "markdown",
   "metadata": {},
   "source": [
    "# (e) How does the customer churn distribution vary by internet service and gender?"
   ]
  },
  {
   "cell_type": "code",
   "execution_count": 9,
   "metadata": {},
   "outputs": [
    {
     "name": "stdout",
     "output_type": "stream",
     "text": [
      "Churn Distribution by Internet Service and Gender:\n",
      "InternetService  gender  Churn\n",
      "DSL              Female  No       0.815657\n",
      "                         Yes      0.184343\n",
      "                 Male    No       0.805353\n",
      "                         Yes      0.194647\n",
      "Fiber optic      Female  No       0.572440\n",
      "                         Yes      0.427560\n",
      "                 Male    No       0.589760\n",
      "                         Yes      0.410240\n",
      "No               Female  No       0.925033\n",
      "                         Yes      0.074967\n",
      "                 Male    No       0.926829\n",
      "                         Yes      0.073171\n",
      "Name: proportion, dtype: float64\n"
     ]
    }
   ],
   "source": [
    "# Grouping data by internet service and gender, then calculating churn distribution\n",
    "internet_gender_churn_distribution = data.groupby(['InternetService', 'gender'])['Churn'].value_counts(normalize=True)\n",
    "print(\"Churn Distribution by Internet Service and Gender:\")\n",
    "print(internet_gender_churn_distribution)"
   ]
  },
  {
   "cell_type": "markdown",
   "metadata": {},
   "source": [
    "# Findings"
   ]
  },
  {
   "cell_type": "markdown",
   "metadata": {},
   "source": [
    "Churn rates are similar between genders for DSL and No internet service, but notably higher for both genders with Fiber optic service, emphasizing the impact of internet service type on churn behavior."
   ]
  },
  {
   "cell_type": "markdown",
   "metadata": {},
   "source": [
    "# (f) Visualize and compare the correlation between churn rates and ’SeniorCitizen’, ’Partner’, ’Dependents’, ’tenure’, ’PhoneService’, ’PaperlessBilling’, ’MonthlyCharges', ’TotalCharges’\n"
   ]
  },
  {
   "cell_type": "code",
   "execution_count": 33,
   "metadata": {},
   "outputs": [
    {
     "name": "stdout",
     "output_type": "stream",
     "text": [
      "0         29.85\n",
      "1       1889.50\n",
      "2        108.15\n",
      "3       1840.75\n",
      "4        151.65\n",
      "         ...   \n",
      "7038    1990.50\n",
      "7039    7362.90\n",
      "7040     346.45\n",
      "7041     306.60\n",
      "7042    6844.50\n",
      "Name: TotalCharges, Length: 7043, dtype: float64\n"
     ]
    },
    {
     "name": "stderr",
     "output_type": "stream",
     "text": [
      "C:\\Users\\ESTHER\\AppData\\Local\\Temp\\ipykernel_4448\\1054459635.py:5: FutureWarning: A value is trying to be set on a copy of a DataFrame or Series through chained assignment using an inplace method.\n",
      "The behavior will change in pandas 3.0. This inplace method will never work because the intermediate object on which we are setting values always behaves as a copy.\n",
      "\n",
      "For example, when doing 'df[col].method(value, inplace=True)', try using 'df.method({col: value}, inplace=True)' or df[col] = df[col].method(value) instead, to perform the operation inplace on the original object.\n",
      "\n",
      "\n",
      "  data['TotalCharges'].fillna(data['TotalCharges'].mean(), inplace=True)\n"
     ]
    }
   ],
   "source": [
    "# First converting 'TotalCharges' column to numeric, coerce errors to NaN\n",
    "data['TotalCharges'] = pd.to_numeric(data['TotalCharges'], errors='coerce')\n",
    "\n",
    "# Filling missing values with mean\n",
    "data['TotalCharges'].fillna(data['TotalCharges'].mean(), inplace=True)\n",
    "print(data['TotalCharges'] )"
   ]
  },
  {
   "cell_type": "code",
   "execution_count": 42,
   "metadata": {},
   "outputs": [
    {
     "name": "stdout",
     "output_type": "stream",
     "text": [
      "Correlation Matrix:\n",
      "                  Churn  SeniorCitizen  Partner  Dependents    tenure  \\\n",
      "Churn               NaN            NaN      NaN         NaN       NaN   \n",
      "SeniorCitizen       NaN       1.000000      NaN         NaN  0.016567   \n",
      "Partner             NaN            NaN      NaN         NaN       NaN   \n",
      "Dependents          NaN            NaN      NaN         NaN       NaN   \n",
      "tenure              NaN       0.016567      NaN         NaN  1.000000   \n",
      "PhoneService        NaN            NaN      NaN         NaN       NaN   \n",
      "PaperlessBilling    NaN            NaN      NaN         NaN       NaN   \n",
      "MonthlyCharges      NaN       0.220173      NaN         NaN  0.247900   \n",
      "TotalCharges        NaN       0.102395      NaN         NaN  0.824757   \n",
      "\n",
      "                  PhoneService  PaperlessBilling  MonthlyCharges  TotalCharges  \n",
      "Churn                      NaN               NaN             NaN           NaN  \n",
      "SeniorCitizen              NaN               NaN        0.220173      0.102395  \n",
      "Partner                    NaN               NaN             NaN           NaN  \n",
      "Dependents                 NaN               NaN             NaN           NaN  \n",
      "tenure                     NaN               NaN        0.247900      0.824757  \n",
      "PhoneService               NaN               NaN             NaN           NaN  \n",
      "PaperlessBilling           NaN               NaN             NaN           NaN  \n",
      "MonthlyCharges             NaN               NaN        1.000000      0.650468  \n",
      "TotalCharges               NaN               NaN        0.650468      1.000000  \n"
     ]
    }
   ],
   "source": [
    "# Calculating correlation matrix\n",
    "correlation_matrix = data[['Churn', 'SeniorCitizen', 'Partner', 'Dependents', 'tenure', 'PhoneService', 'PaperlessBilling', 'MonthlyCharges', 'TotalCharges']].corr()\n",
    "print(\"Correlation Matrix:\")\n",
    "print(correlation_matrix)"
   ]
  },
  {
   "cell_type": "code",
   "execution_count": 50,
   "metadata": {},
   "outputs": [
    {
     "data": {
      "image/png": "[encoded data removed]",
      "text/plain": [
       "<Figure size 1000x800 with 2 Axes>"
      ]
     },
     "metadata": {},
     "output_type": "display_data"
    }
   ],
   "source": [
    "import seaborn as sns\n",
    "import matplotlib.pyplot as plt\n",
    "\n",
    "# Converting categorical columns to numeric\n",
    "data['Churn'] = data['Churn'].map({'No': 0, 'Yes': 1})\n",
    "data['Partner'] = data['Partner'].map({'No': 0, 'Yes': 1})\n",
    "data['Dependents'] = data['Dependents'].map({'No': 0, 'Yes': 1})\n",
    "data['PhoneService'] = data['PhoneService'].map({'No': 0, 'Yes': 1})\n",
    "data['PaperlessBilling'] = data['PaperlessBilling'].map({'No': 0, 'Yes': 1})\n",
    "\n",
    "# ploting the heatmap\n",
    "plt.figure(figsize=(10, 8))\n",
    "sns.heatmap(correlation_matrix, annot=True, cmap='coolwarm', fmt=\".2f\", annot_kws={\"size\": 10})\n",
    "plt.title('Correlation between churn rates and other variables')\n",
    "plt.show()\n"
   ]
  },
  {
   "cell_type": "markdown",
   "metadata": {},
   "source": [
    "# Findings"
   ]
  },
  {
   "cell_type": "markdown",
   "metadata": {},
   "source": [
    "Churn rates show a weak positive correlation with senior citizenship, while tenure exhibits a moderate negative correlation, indicating longer-tenured customers churn less. Other variables like partner status, dependents, phone service, and paperless billing show negligible correlations, with a modest positive correlation seen with monthly charges. Total charges do not significantly correlate with churn rates."
   ]
  }
 ],
 "metadata": {
  "kernelspec": {
   "display_name": "Python 3",
   "language": "python",
   "name": "python3"
  },
  "language_info": {
   "codemirror_mode": {
    "name": "ipython",
    "version": 3
   },
   "file_extension": ".py",
   "mimetype": "text/x-python",
   "name": "python",
   "nbconvert_exporter": "python",
   "pygments_lexer": "ipython3",
   "version": "3.12.2"
  }
 },
 "nbformat": 4,
 "nbformat_minor": 2
}
